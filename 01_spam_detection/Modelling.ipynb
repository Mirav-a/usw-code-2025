{
 "cells": [
  {
   "cell_type": "code",
   "execution_count": 3,
   "id": "bce8da3c-a076-4476-90aa-ccbb1a4bb024",
   "metadata": {},
   "outputs": [
    {
     "data": {
      "text/html": [
       "<div>\n",
       "<style scoped>\n",
       "    .dataframe tbody tr th:only-of-type {\n",
       "        vertical-align: middle;\n",
       "    }\n",
       "\n",
       "    .dataframe tbody tr th {\n",
       "        vertical-align: top;\n",
       "    }\n",
       "\n",
       "    .dataframe thead th {\n",
       "        text-align: right;\n",
       "    }\n",
       "</style>\n",
       "<table border=\"1\" class=\"dataframe\">\n",
       "  <thead>\n",
       "    <tr style=\"text-align: right;\">\n",
       "      <th></th>\n",
       "      <th>label</th>\n",
       "      <th>text</th>\n",
       "      <th>preprocessed_text</th>\n",
       "      <th>is_spam</th>\n",
       "      <th>to_count</th>\n",
       "      <th>you_count</th>\n",
       "      <th>I_count</th>\n",
       "      <th>a_count</th>\n",
       "      <th>the_count</th>\n",
       "      <th>and_count</th>\n",
       "      <th>...</th>\n",
       "      <th>for_count</th>\n",
       "      <th>my_count</th>\n",
       "      <th>of_count</th>\n",
       "      <th>me_count</th>\n",
       "      <th>your_count</th>\n",
       "      <th>on_count</th>\n",
       "      <th>have_count</th>\n",
       "      <th>2_count</th>\n",
       "      <th>that_count</th>\n",
       "      <th>it_count</th>\n",
       "    </tr>\n",
       "  </thead>\n",
       "  <tbody>\n",
       "    <tr>\n",
       "      <th>0</th>\n",
       "      <td>ham</td>\n",
       "      <td>Go until jurong point, crazy.. Available only ...</td>\n",
       "      <td>['Go', 'until', 'jurong', 'point,', 'crazy..',...</td>\n",
       "      <td>False</td>\n",
       "      <td>0</td>\n",
       "      <td>0</td>\n",
       "      <td>0</td>\n",
       "      <td>0</td>\n",
       "      <td>0</td>\n",
       "      <td>0</td>\n",
       "      <td>...</td>\n",
       "      <td>0</td>\n",
       "      <td>0</td>\n",
       "      <td>0</td>\n",
       "      <td>0</td>\n",
       "      <td>0</td>\n",
       "      <td>0</td>\n",
       "      <td>0</td>\n",
       "      <td>0</td>\n",
       "      <td>0</td>\n",
       "      <td>0</td>\n",
       "    </tr>\n",
       "    <tr>\n",
       "      <th>1</th>\n",
       "      <td>ham</td>\n",
       "      <td>Ok lar... Joking wif u oni...</td>\n",
       "      <td>['Ok', 'lar...', 'Joking', 'wif', 'u', 'oni...']</td>\n",
       "      <td>False</td>\n",
       "      <td>0</td>\n",
       "      <td>0</td>\n",
       "      <td>0</td>\n",
       "      <td>0</td>\n",
       "      <td>0</td>\n",
       "      <td>0</td>\n",
       "      <td>...</td>\n",
       "      <td>0</td>\n",
       "      <td>0</td>\n",
       "      <td>0</td>\n",
       "      <td>0</td>\n",
       "      <td>0</td>\n",
       "      <td>0</td>\n",
       "      <td>0</td>\n",
       "      <td>0</td>\n",
       "      <td>0</td>\n",
       "      <td>0</td>\n",
       "    </tr>\n",
       "    <tr>\n",
       "      <th>2</th>\n",
       "      <td>spam</td>\n",
       "      <td>Free entry in 2 a wkly comp to win FA Cup fina...</td>\n",
       "      <td>['Free', 'entry', 'in', '2', 'a', 'wkly', 'com...</td>\n",
       "      <td>True</td>\n",
       "      <td>3</td>\n",
       "      <td>0</td>\n",
       "      <td>0</td>\n",
       "      <td>1</td>\n",
       "      <td>0</td>\n",
       "      <td>0</td>\n",
       "      <td>...</td>\n",
       "      <td>0</td>\n",
       "      <td>0</td>\n",
       "      <td>0</td>\n",
       "      <td>0</td>\n",
       "      <td>0</td>\n",
       "      <td>0</td>\n",
       "      <td>0</td>\n",
       "      <td>1</td>\n",
       "      <td>0</td>\n",
       "      <td>0</td>\n",
       "    </tr>\n",
       "    <tr>\n",
       "      <th>3</th>\n",
       "      <td>ham</td>\n",
       "      <td>U dun say so early hor... U c already then say...</td>\n",
       "      <td>['U', 'dun', 'say', 'so', 'early', 'hor...', '...</td>\n",
       "      <td>False</td>\n",
       "      <td>0</td>\n",
       "      <td>0</td>\n",
       "      <td>0</td>\n",
       "      <td>0</td>\n",
       "      <td>0</td>\n",
       "      <td>0</td>\n",
       "      <td>...</td>\n",
       "      <td>0</td>\n",
       "      <td>0</td>\n",
       "      <td>0</td>\n",
       "      <td>0</td>\n",
       "      <td>0</td>\n",
       "      <td>0</td>\n",
       "      <td>0</td>\n",
       "      <td>0</td>\n",
       "      <td>0</td>\n",
       "      <td>0</td>\n",
       "    </tr>\n",
       "    <tr>\n",
       "      <th>4</th>\n",
       "      <td>ham</td>\n",
       "      <td>Nah I don't think he goes to usf, he lives aro...</td>\n",
       "      <td>['Nah', 'I', \"don't\", 'think', 'he', 'goes', '...</td>\n",
       "      <td>False</td>\n",
       "      <td>1</td>\n",
       "      <td>0</td>\n",
       "      <td>1</td>\n",
       "      <td>0</td>\n",
       "      <td>0</td>\n",
       "      <td>0</td>\n",
       "      <td>...</td>\n",
       "      <td>0</td>\n",
       "      <td>0</td>\n",
       "      <td>0</td>\n",
       "      <td>0</td>\n",
       "      <td>0</td>\n",
       "      <td>0</td>\n",
       "      <td>0</td>\n",
       "      <td>0</td>\n",
       "      <td>0</td>\n",
       "      <td>0</td>\n",
       "    </tr>\n",
       "  </tbody>\n",
       "</table>\n",
       "<p>5 rows × 24 columns</p>\n",
       "</div>"
      ],
      "text/plain": [
       "  label                                               text  \\\n",
       "0   ham  Go until jurong point, crazy.. Available only ...   \n",
       "1   ham                      Ok lar... Joking wif u oni...   \n",
       "2  spam  Free entry in 2 a wkly comp to win FA Cup fina...   \n",
       "3   ham  U dun say so early hor... U c already then say...   \n",
       "4   ham  Nah I don't think he goes to usf, he lives aro...   \n",
       "\n",
       "                                   preprocessed_text  is_spam  to_count  \\\n",
       "0  ['Go', 'until', 'jurong', 'point,', 'crazy..',...    False         0   \n",
       "1   ['Ok', 'lar...', 'Joking', 'wif', 'u', 'oni...']    False         0   \n",
       "2  ['Free', 'entry', 'in', '2', 'a', 'wkly', 'com...     True         3   \n",
       "3  ['U', 'dun', 'say', 'so', 'early', 'hor...', '...    False         0   \n",
       "4  ['Nah', 'I', \"don't\", 'think', 'he', 'goes', '...    False         1   \n",
       "\n",
       "   you_count  I_count  a_count  the_count  and_count  ...  for_count  \\\n",
       "0          0        0        0          0          0  ...          0   \n",
       "1          0        0        0          0          0  ...          0   \n",
       "2          0        0        1          0          0  ...          0   \n",
       "3          0        0        0          0          0  ...          0   \n",
       "4          0        1        0          0          0  ...          0   \n",
       "\n",
       "   my_count  of_count  me_count  your_count  on_count  have_count  2_count  \\\n",
       "0         0         0         0           0         0           0        0   \n",
       "1         0         0         0           0         0           0        0   \n",
       "2         0         0         0           0         0           0        1   \n",
       "3         0         0         0           0         0           0        0   \n",
       "4         0         0         0           0         0           0        0   \n",
       "\n",
       "   that_count  it_count  \n",
       "0           0         0  \n",
       "1           0         0  \n",
       "2           0         0  \n",
       "3           0         0  \n",
       "4           0         0  \n",
       "\n",
       "[5 rows x 24 columns]"
      ]
     },
     "execution_count": 3,
     "metadata": {},
     "output_type": "execute_result"
    }
   ],
   "source": [
    "import pandas as pd\n",
    "file_path: str = \"data/prepared_sms_data.csv\"\n",
    "\n",
    "df = pd.read_csv(file_path)\n",
    "df.head()"
   ]
  },
  {
   "cell_type": "code",
   "execution_count": 4,
   "id": "28cd583a-6dfb-4440-9e23-474dd29a9923",
   "metadata": {},
   "outputs": [],
   "source": [
    "### Prepare splits\n",
    "from sklearn.model_selection import train_test_split\n",
    "train, test = train_test_split(df, stratify=df['label'])"
   ]
  },
  {
   "cell_type": "code",
   "execution_count": 5,
   "id": "52f9f28e-46a6-435c-9152-76779cba4cbb",
   "metadata": {},
   "outputs": [
    {
     "data": {
      "text/plain": [
       "label\n",
       "ham     3619\n",
       "spam     560\n",
       "Name: count, dtype: int64"
      ]
     },
     "execution_count": 5,
     "metadata": {},
     "output_type": "execute_result"
    }
   ],
   "source": [
    "train['label'].value_counts()"
   ]
  },
  {
   "cell_type": "code",
   "execution_count": 6,
   "id": "a268d6bf-ace8-4b43-aa57-272fc798527d",
   "metadata": {},
   "outputs": [],
   "source": [
    "from sklearn.preprocessing import LabelEncoder\n",
    "\n",
    "le = LabelEncoder()\n",
    "Y_train = le.fit_transform(train['label'])\n",
    "Y_test = le.transform(test['label'])"
   ]
  },
  {
   "cell_type": "code",
   "execution_count": 7,
   "id": "b8512d70-70f4-4b30-abf9-55a65901ec3b",
   "metadata": {},
   "outputs": [],
   "source": [
    "from sklearn.feature_extraction.text import CountVectorizer\n",
    "\n",
    "# TODO: add Tfidf vectorizer here, update the following code and compare results later\n",
    "\n",
    "vec = CountVectorizer()\n",
    "X_train = vec.fit_transform(train['text'])\n",
    "X_test = vec.transform(test['text'])"
   ]
  },
  {
   "cell_type": "code",
   "execution_count": null,
   "id": "542f034d-0e7e-4e83-8ba9-172cff9bab16",
   "metadata": {},
   "outputs": [],
   "source": [
    "# TODO we will take accuracy for the beginning. Which metric would be more suitable and why?"
   ]
  },
  {
   "cell_type": "code",
   "execution_count": null,
   "id": "f37a8de0-d969-420e-92a0-13dc1f9ca8e6",
   "metadata": {},
   "outputs": [],
   "source": [
    "# TODO: What is the baseline for random classification and majority vote?"
   ]
  },
  {
   "cell_type": "code",
   "execution_count": 22,
   "id": "2bffec3c-edeb-46dd-a050-101625d7245a",
   "metadata": {},
   "outputs": [],
   "source": [
    "results = []\n",
    "\n",
    "def get_name(classifier):\n",
    "    return type(classifier).__name__"
   ]
  },
  {
   "cell_type": "code",
   "execution_count": 23,
   "id": "5d50d354-1905-4f40-8b78-6eb4863d9bfe",
   "metadata": {},
   "outputs": [],
   "source": [
    "from sklearn.naive_bayes import MultinomialNB\n",
    "\n",
    "nb_model = MultinomialNB().fit(X_train, Y_train)\n",
    "score = nb_model.score(X_test, Y_test)\n",
    "\n",
    "results.append([get_name(nb_model), score, \"count_vec\"])"
   ]
  },
  {
   "cell_type": "code",
   "execution_count": 17,
   "id": "c5007bcd-e484-41bf-9460-b128780acd30",
   "metadata": {},
   "outputs": [],
   "source": [
    "import sklearn.naive_bayes\n",
    "sklearn.tree.__all__\n",
    "\n",
    "from sklearn.tree import DecisionTreeClassifier\n",
    "\n",
    "# TODO: configure the max depth of the decision tree\n",
    "dt_model = DecisionTreeClassifier().fit(X_train, Y_train)"
   ]
  },
  {
   "cell_type": "code",
   "execution_count": 18,
   "id": "7b9c70f8-4036-4a41-944b-d8a7922cc038",
   "metadata": {},
   "outputs": [
    {
     "data": {
      "text/plain": [
       "0.9727207465900933"
      ]
     },
     "execution_count": 18,
     "metadata": {},
     "output_type": "execute_result"
    }
   ],
   "source": [
    "score = dt_model.score(X_test, Y_test)\n",
    "score"
   ]
  },
  {
   "cell_type": "code",
   "execution_count": 19,
   "id": "2135afb0-9d10-470d-bdbf-0ac637579ae5",
   "metadata": {},
   "outputs": [],
   "source": [
    "# TODO visualize the decision tree (https://scikit-learn.org/stable/modules/generated/sklearn.tree.plot_tree.html)"
   ]
  },
  {
   "cell_type": "code",
   "execution_count": null,
   "id": "8c98dbac-905f-43be-9287-e5d825656ef2",
   "metadata": {},
   "outputs": [],
   "source": [
    "# train also a random forest classifer and a linear svc\n",
    "# https://scikit-learn.org/stable/modules/generated/sklearn.ensemble.RandomForestClassifier.html\n",
    "# https://scikit-learn.org/stable/modules/generated/sklearn.svm.LinearSVC.html"
   ]
  },
  {
   "cell_type": "markdown",
   "id": "c99f02de-8408-4a54-b0a0-2bb58fc4692d",
   "metadata": {},
   "source": [
    "## All results"
   ]
  },
  {
   "cell_type": "code",
   "execution_count": 24,
   "id": "93d85fc0-1ea0-43dc-8647-ffd6fd083347",
   "metadata": {},
   "outputs": [
    {
     "data": {
      "text/html": [
       "<div>\n",
       "<style scoped>\n",
       "    .dataframe tbody tr th:only-of-type {\n",
       "        vertical-align: middle;\n",
       "    }\n",
       "\n",
       "    .dataframe tbody tr th {\n",
       "        vertical-align: top;\n",
       "    }\n",
       "\n",
       "    .dataframe thead th {\n",
       "        text-align: right;\n",
       "    }\n",
       "</style>\n",
       "<table border=\"1\" class=\"dataframe\">\n",
       "  <thead>\n",
       "    <tr style=\"text-align: right;\">\n",
       "      <th></th>\n",
       "      <th>classifer</th>\n",
       "      <th>accuracy</th>\n",
       "      <th>vectorizer</th>\n",
       "    </tr>\n",
       "  </thead>\n",
       "  <tbody>\n",
       "    <tr>\n",
       "      <th>0</th>\n",
       "      <td>MultinomialNB</td>\n",
       "      <td>0.98636</td>\n",
       "      <td>count_vec</td>\n",
       "    </tr>\n",
       "  </tbody>\n",
       "</table>\n",
       "</div>"
      ],
      "text/plain": [
       "       classifer  accuracy vectorizer\n",
       "0  MultinomialNB   0.98636  count_vec"
      ]
     },
     "execution_count": 24,
     "metadata": {},
     "output_type": "execute_result"
    }
   ],
   "source": [
    "result_df = pd.DataFrame(results, columns=[\"classifer\", \"accuracy\", \"vectorizer\"])\n",
    "result_df.sort_values(by=[\"accuracy\"])"
   ]
  },
  {
   "cell_type": "code",
   "execution_count": null,
   "id": "a841ad5c-560f-4235-a05f-c56ecb70ab78",
   "metadata": {},
   "outputs": [],
   "source": []
  }
 ],
 "metadata": {
  "kernelspec": {
   "display_name": "Python 3 (ipykernel)",
   "language": "python",
   "name": "python3"
  },
  "language_info": {
   "codemirror_mode": {
    "name": "ipython",
    "version": 3
   },
   "file_extension": ".py",
   "mimetype": "text/x-python",
   "name": "python",
   "nbconvert_exporter": "python",
   "pygments_lexer": "ipython3",
   "version": "3.11.2"
  }
 },
 "nbformat": 4,
 "nbformat_minor": 5
}
