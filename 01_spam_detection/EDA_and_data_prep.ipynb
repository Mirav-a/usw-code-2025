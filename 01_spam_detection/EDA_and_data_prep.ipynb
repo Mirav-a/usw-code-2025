{
 "cells": [
  {
   "cell_type": "markdown",
   "id": "c0630d74-02de-40fa-833b-97f9bb821a51",
   "metadata": {},
   "source": [
    "## EDA on SPAM Messages"
   ]
  },
  {
   "cell_type": "code",
   "id": "59d93ddd-4fc3-4765-aa40-6ac2c6eb27aa",
   "metadata": {
    "ExecuteTime": {
     "end_time": "2025-04-14T20:59:24.095619Z",
     "start_time": "2025-04-14T20:59:24.084891Z"
    }
   },
   "source": [
    "import pandas as pd"
   ],
   "outputs": [],
   "execution_count": 2
  },
  {
   "cell_type": "code",
   "id": "eeee8e76-9450-4d51-9a89-e4d3723c4d95",
   "metadata": {
    "scrolled": true,
    "ExecuteTime": {
     "end_time": "2025-04-14T20:59:26.100950Z",
     "start_time": "2025-04-14T20:59:26.042477Z"
    }
   },
   "source": [
    "file_path: str = \"data/SMSSpamCollection\"\n",
    "\n",
    "df = pd.read_csv(file_path, sep='\\t', header=None, names=['label', 'text'])\n",
    "df.head()"
   ],
   "outputs": [
    {
     "data": {
      "text/plain": [
       "  label                                               text\n",
       "0   ham  Go until jurong point, crazy.. Available only ...\n",
       "1   ham                      Ok lar... Joking wif u oni...\n",
       "2  spam  Free entry in 2 a wkly comp to win FA Cup fina...\n",
       "3   ham  U dun say so early hor... U c already then say...\n",
       "4   ham  Nah I don't think he goes to usf, he lives aro..."
      ],
      "text/html": [
       "<div>\n",
       "<style scoped>\n",
       "    .dataframe tbody tr th:only-of-type {\n",
       "        vertical-align: middle;\n",
       "    }\n",
       "\n",
       "    .dataframe tbody tr th {\n",
       "        vertical-align: top;\n",
       "    }\n",
       "\n",
       "    .dataframe thead th {\n",
       "        text-align: right;\n",
       "    }\n",
       "</style>\n",
       "<table border=\"1\" class=\"dataframe\">\n",
       "  <thead>\n",
       "    <tr style=\"text-align: right;\">\n",
       "      <th></th>\n",
       "      <th>label</th>\n",
       "      <th>text</th>\n",
       "    </tr>\n",
       "  </thead>\n",
       "  <tbody>\n",
       "    <tr>\n",
       "      <th>0</th>\n",
       "      <td>ham</td>\n",
       "      <td>Go until jurong point, crazy.. Available only ...</td>\n",
       "    </tr>\n",
       "    <tr>\n",
       "      <th>1</th>\n",
       "      <td>ham</td>\n",
       "      <td>Ok lar... Joking wif u oni...</td>\n",
       "    </tr>\n",
       "    <tr>\n",
       "      <th>2</th>\n",
       "      <td>spam</td>\n",
       "      <td>Free entry in 2 a wkly comp to win FA Cup fina...</td>\n",
       "    </tr>\n",
       "    <tr>\n",
       "      <th>3</th>\n",
       "      <td>ham</td>\n",
       "      <td>U dun say so early hor... U c already then say...</td>\n",
       "    </tr>\n",
       "    <tr>\n",
       "      <th>4</th>\n",
       "      <td>ham</td>\n",
       "      <td>Nah I don't think he goes to usf, he lives aro...</td>\n",
       "    </tr>\n",
       "  </tbody>\n",
       "</table>\n",
       "</div>"
      ]
     },
     "execution_count": 3,
     "metadata": {},
     "output_type": "execute_result"
    }
   ],
   "execution_count": 3
  },
  {
   "cell_type": "markdown",
   "id": "dee8e824-6e4f-452b-b9db-225bb96a5573",
   "metadata": {},
   "source": [
    "TODO Sanity checks: Read the readme file in the data folder. How could we check if the data is read correctly?"
   ]
  },
  {
   "cell_type": "code",
   "id": "e47e59e5ff592cd9",
   "metadata": {
    "ExecuteTime": {
     "end_time": "2025-04-14T20:59:28.479764Z",
     "start_time": "2025-04-14T20:59:28.431820Z"
    }
   },
   "source": [
    "# Zeige einige zufällige Zeilen zur Überprüfung der Struktur\n",
    "df.sample(5)\n",
    "\n",
    "# Zeige Datentypen & Struktur\n",
    "df.info()\n",
    "\n",
    "# Zeige eindeutige Label-Werte (sollten nur \"ham\" und \"spam\" sein)\n",
    "df['label'].unique()\n"
   ],
   "outputs": [
    {
     "name": "stdout",
     "output_type": "stream",
     "text": [
      "<class 'pandas.core.frame.DataFrame'>\n",
      "RangeIndex: 5572 entries, 0 to 5571\n",
      "Data columns (total 2 columns):\n",
      " #   Column  Non-Null Count  Dtype \n",
      "---  ------  --------------  ----- \n",
      " 0   label   5572 non-null   object\n",
      " 1   text    5572 non-null   object\n",
      "dtypes: object(2)\n",
      "memory usage: 87.2+ KB\n"
     ]
    },
    {
     "data": {
      "text/plain": [
       "array(['ham', 'spam'], dtype=object)"
      ]
     },
     "execution_count": 4,
     "metadata": {},
     "output_type": "execute_result"
    }
   ],
   "execution_count": 4
  },
  {
   "cell_type": "code",
   "id": "78c07400-758f-4fea-be86-83e7786a47f4",
   "metadata": {
    "ExecuteTime": {
     "end_time": "2025-04-14T20:59:31.695069Z",
     "start_time": "2025-04-14T20:59:31.677969Z"
    }
   },
   "source": [
    "len(df) # number of rows"
   ],
   "outputs": [
    {
     "data": {
      "text/plain": [
       "5572"
      ]
     },
     "execution_count": 5,
     "metadata": {},
     "output_type": "execute_result"
    }
   ],
   "execution_count": 5
  },
  {
   "cell_type": "markdown",
   "id": "ef087a6d-1908-40cd-8454-d9f74ca6206c",
   "metadata": {},
   "source": [
    "TODO Check if values are null? (If labels or text are null, remove the rows)"
   ]
  },
  {
   "cell_type": "code",
   "id": "73ee0ddb42a1b1ab",
   "metadata": {
    "ExecuteTime": {
     "end_time": "2025-04-14T20:59:33.638306Z",
     "start_time": "2025-04-14T20:59:33.613804Z"
    }
   },
   "source": [
    "# Prüfen auf fehlende Werte\n",
    "print(df.isnull().sum())\n",
    "\n",
    "# Falls vorhanden: Entfernen\n",
    "df = df.dropna()\n"
   ],
   "outputs": [
    {
     "name": "stdout",
     "output_type": "stream",
     "text": [
      "label    0\n",
      "text     0\n",
      "dtype: int64\n"
     ]
    }
   ],
   "execution_count": 6
  },
  {
   "cell_type": "markdown",
   "id": "b5511a8b",
   "metadata": {},
   "source": [
    "TODO describe the data statistically using pandas\n",
    "https://pandas.pydata.org/docs/reference/api/pandas.DataFrame.describe.html"
   ]
  },
  {
   "cell_type": "code",
   "id": "d57f7fe43afd4ed9",
   "metadata": {
    "ExecuteTime": {
     "end_time": "2025-04-14T20:59:35.703661Z",
     "start_time": "2025-04-14T20:59:35.679270Z"
    }
   },
   "source": [
    "df['text_length'] = df['text'].apply(len)\n",
    "df['text_length'].describe()\n"
   ],
   "outputs": [
    {
     "data": {
      "text/plain": [
       "count    5572.000000\n",
       "mean       80.490309\n",
       "std        59.944527\n",
       "min         2.000000\n",
       "25%        36.000000\n",
       "50%        62.000000\n",
       "75%       122.000000\n",
       "max       910.000000\n",
       "Name: text_length, dtype: float64"
      ]
     },
     "execution_count": 7,
     "metadata": {},
     "output_type": "execute_result"
    }
   ],
   "execution_count": 7
  },
  {
   "cell_type": "code",
   "id": "5e0b1065",
   "metadata": {
    "ExecuteTime": {
     "end_time": "2025-04-14T20:59:38.399137Z",
     "start_time": "2025-04-14T20:59:38.364556Z"
    }
   },
   "source": [
    "df = df.drop_duplicates(subset=['text'])"
   ],
   "outputs": [],
   "execution_count": 8
  },
  {
   "cell_type": "markdown",
   "id": "f2dc9b8d-0078-4a1a-b934-f89da3b8dd77",
   "metadata": {},
   "source": [
    "### Text Analysis"
   ]
  },
  {
   "cell_type": "code",
   "id": "06a26d10-aec6-48ca-bc55-d29e5a6fa2c6",
   "metadata": {
    "ExecuteTime": {
     "end_time": "2025-04-14T20:59:40.268843Z",
     "start_time": "2025-04-14T20:59:40.263437Z"
    }
   },
   "source": [
    "def preprocess_text(text: str):\n",
    "    return text.lower().split()"
   ],
   "outputs": [],
   "execution_count": 9
  },
  {
   "cell_type": "code",
   "id": "206c36f1-ebd7-4cf1-83cf-40d9c7019229",
   "metadata": {
    "ExecuteTime": {
     "end_time": "2025-04-14T20:59:43.104291Z",
     "start_time": "2025-04-14T20:59:43.068907Z"
    }
   },
   "source": [
    "preprocessed_column: str = \"preprocessed_text\"\n",
    "text_column : str = 'text'\n",
    "\n",
    "# tokenize and normalize text\n",
    "df[preprocessed_column] = df[text_column].apply(preprocess_text)"
   ],
   "outputs": [],
   "execution_count": 10
  },
  {
   "cell_type": "code",
   "id": "9c660fdd-dd0e-46e9-8275-9e9d5c134c49",
   "metadata": {
    "ExecuteTime": {
     "end_time": "2025-04-14T20:59:46.723745Z",
     "start_time": "2025-04-14T20:59:46.305609Z"
    }
   },
   "source": [
    "# TODO: add diagram title, titles for X/Y\n",
    "df[preprocessed_column].apply(len).plot(kind=\"hist\", bins=20)\n",
    "ax = df[preprocessed_column].apply(len).plot.hist(bins=20, title=\"Verteilung der Token-Anzahl pro Nachricht\")\n",
    "ax.set_xlabel(\"Anzahl Tokens\")\n",
    "ax.set_ylabel(\"Anzahl Nachrichten\")"
   ],
   "outputs": [
    {
     "data": {
      "text/plain": [
       "Text(0, 0.5, 'Anzahl Nachrichten')"
      ]
     },
     "execution_count": 11,
     "metadata": {},
     "output_type": "execute_result"
    },
    {
     "data": {
      "text/plain": [
       "<Figure size 640x480 with 1 Axes>"
      ],
      "image/png": "[encoded data removed]"
     },
     "metadata": {},
     "output_type": "display_data"
    }
   ],
   "execution_count": 11
  },
  {
   "cell_type": "code",
   "id": "929cf660-2c68-4a3d-893e-f2ff8e4c6569",
   "metadata": {
    "ExecuteTime": {
     "end_time": "2025-04-14T20:59:49.697194Z",
     "start_time": "2025-04-14T20:59:49.588849Z"
    }
   },
   "source": [
    "# TODO count the least frequent terms\n",
    "df.explode(preprocessed_column)[preprocessed_column].value_counts().tail(20)\n",
    "df.explode(preprocessed_column)[preprocessed_column].value_counts().head(20)"
   ],
   "outputs": [
    {
     "data": {
      "text/plain": [
       "preprocessed_text\n",
       "i       2102\n",
       "to      2065\n",
       "you     1836\n",
       "a       1295\n",
       "the     1235\n",
       "and      920\n",
       "u        897\n",
       "in       789\n",
       "is       773\n",
       "my       680\n",
       "for      659\n",
       "your     619\n",
       "me       585\n",
       "of       553\n",
       "have     535\n",
       "on       477\n",
       "call     470\n",
       "are      459\n",
       "that     455\n",
       "it       441\n",
       "Name: count, dtype: int64"
      ]
     },
     "execution_count": 12,
     "metadata": {},
     "output_type": "execute_result"
    }
   ],
   "execution_count": 12
  },
  {
   "cell_type": "code",
   "id": "95e47208-79f8-4fed-87bd-9deee189fb82",
   "metadata": {
    "ExecuteTime": {
     "end_time": "2025-04-14T20:59:53.885497Z",
     "start_time": "2025-04-14T20:59:52.489994Z"
    }
   },
   "source": [
    "# TODO many of the top frequent words are stopwords. Remove them using NLTK\n",
    "# use the corpus module for that (https://www.nltk.org/howto/corpus.html#word-lists-and-lexicons)predictionprepre\n",
    "#import nltk\n",
    "#nltk.download('stopwords')\n",
    "import nltk\n",
    "nltk.download('stopwords')"
   ],
   "outputs": [
    {
     "name": "stderr",
     "output_type": "stream",
     "text": [
      "[nltk_data] Downloading package stopwords to\n",
      "[nltk_data]     C:\\Users\\mirav\\AppData\\Roaming\\nltk_data...\n",
      "[nltk_data]   Package stopwords is already up-to-date!\n"
     ]
    },
    {
     "data": {
      "text/plain": [
       "True"
      ]
     },
     "execution_count": 13,
     "metadata": {},
     "output_type": "execute_result"
    }
   ],
   "execution_count": 13
  },
  {
   "cell_type": "code",
   "id": "5c7a3c8e05ce2971",
   "metadata": {
    "ExecuteTime": {
     "end_time": "2025-04-14T20:59:57.548121Z",
     "start_time": "2025-04-14T20:59:57.509326Z"
    }
   },
   "source": [
    "from nltk.corpus import stopwords\n",
    "stop_words = set(stopwords.words(\"english\"))"
   ],
   "outputs": [],
   "execution_count": 14
  },
  {
   "cell_type": "code",
   "id": "b881386d411f32ec",
   "metadata": {
    "ExecuteTime": {
     "end_time": "2025-04-14T20:59:59.770276Z",
     "start_time": "2025-04-14T20:59:59.758504Z"
    }
   },
   "source": [
    "def preprocess_text(text: str) -> list[str]:\n",
    "    tokens = text.lower().split()\n",
    "    return [word for word in tokens if word not in stop_words]"
   ],
   "outputs": [],
   "execution_count": 15
  },
  {
   "cell_type": "code",
   "id": "81ced25cb04750cb",
   "metadata": {
    "ExecuteTime": {
     "end_time": "2025-04-14T21:00:01.626723Z",
     "start_time": "2025-04-14T21:00:01.567022Z"
    }
   },
   "source": [
    "df[preprocessed_column] = df[text_column].apply(preprocess_text)"
   ],
   "outputs": [],
   "execution_count": 16
  },
  {
   "cell_type": "code",
   "id": "ee9994237e17da38",
   "metadata": {
    "ExecuteTime": {
     "end_time": "2025-04-14T21:00:03.285917Z",
     "start_time": "2025-04-14T21:00:03.250132Z"
    }
   },
   "source": [
    "df[[text_column, preprocessed_column]].head()"
   ],
   "outputs": [
    {
     "data": {
      "text/plain": [
       "                                                text  \\\n",
       "0  Go until jurong point, crazy.. Available only ...   \n",
       "1                      Ok lar... Joking wif u oni...   \n",
       "2  Free entry in 2 a wkly comp to win FA Cup fina...   \n",
       "3  U dun say so early hor... U c already then say...   \n",
       "4  Nah I don't think he goes to usf, he lives aro...   \n",
       "\n",
       "                                   preprocessed_text  \n",
       "0  [go, jurong, point,, crazy.., available, bugis...  \n",
       "1               [ok, lar..., joking, wif, u, oni...]  \n",
       "2  [free, entry, 2, wkly, comp, win, fa, cup, fin...  \n",
       "3  [u, dun, say, early, hor..., u, c, already, sa...  \n",
       "4    [nah, think, goes, usf,, lives, around, though]  "
      ],
      "text/html": [
       "<div>\n",
       "<style scoped>\n",
       "    .dataframe tbody tr th:only-of-type {\n",
       "        vertical-align: middle;\n",
       "    }\n",
       "\n",
       "    .dataframe tbody tr th {\n",
       "        vertical-align: top;\n",
       "    }\n",
       "\n",
       "    .dataframe thead th {\n",
       "        text-align: right;\n",
       "    }\n",
       "</style>\n",
       "<table border=\"1\" class=\"dataframe\">\n",
       "  <thead>\n",
       "    <tr style=\"text-align: right;\">\n",
       "      <th></th>\n",
       "      <th>text</th>\n",
       "      <th>preprocessed_text</th>\n",
       "    </tr>\n",
       "  </thead>\n",
       "  <tbody>\n",
       "    <tr>\n",
       "      <th>0</th>\n",
       "      <td>Go until jurong point, crazy.. Available only ...</td>\n",
       "      <td>[go, jurong, point,, crazy.., available, bugis...</td>\n",
       "    </tr>\n",
       "    <tr>\n",
       "      <th>1</th>\n",
       "      <td>Ok lar... Joking wif u oni...</td>\n",
       "      <td>[ok, lar..., joking, wif, u, oni...]</td>\n",
       "    </tr>\n",
       "    <tr>\n",
       "      <th>2</th>\n",
       "      <td>Free entry in 2 a wkly comp to win FA Cup fina...</td>\n",
       "      <td>[free, entry, 2, wkly, comp, win, fa, cup, fin...</td>\n",
       "    </tr>\n",
       "    <tr>\n",
       "      <th>3</th>\n",
       "      <td>U dun say so early hor... U c already then say...</td>\n",
       "      <td>[u, dun, say, early, hor..., u, c, already, sa...</td>\n",
       "    </tr>\n",
       "    <tr>\n",
       "      <th>4</th>\n",
       "      <td>Nah I don't think he goes to usf, he lives aro...</td>\n",
       "      <td>[nah, think, goes, usf,, lives, around, though]</td>\n",
       "    </tr>\n",
       "  </tbody>\n",
       "</table>\n",
       "</div>"
      ]
     },
     "execution_count": 17,
     "metadata": {},
     "output_type": "execute_result"
    }
   ],
   "execution_count": 17
  },
  {
   "cell_type": "markdown",
   "id": "f80f5453-e310-4d28-8996-043408df8634",
   "metadata": {},
   "source": [
    "### Correlations"
   ]
  },
  {
   "cell_type": "code",
   "id": "d546c7ec-9757-4a3e-b5f0-67866f460b87",
   "metadata": {
    "ExecuteTime": {
     "end_time": "2025-04-14T21:00:05.853830Z",
     "start_time": "2025-04-14T21:00:05.806737Z"
    }
   },
   "source": [
    "# take the 30 most frequent words, and correlate to labels\n",
    "df_words_exploded = df.explode(preprocessed_column)\n",
    "top_50_words: list[str] = df_words_exploded[preprocessed_column].value_counts()[:20].index.tolist()\n",
    "top_50_words"
   ],
   "outputs": [
    {
     "data": {
      "text/plain": [
       "['u',\n",
       " 'call',\n",
       " '2',\n",
       " 'get',\n",
       " 'ur',\n",
       " 'go',\n",
       " '&lt;#&gt;',\n",
       " '4',\n",
       " 'got',\n",
       " 'like',\n",
       " 'know',\n",
       " 'come',\n",
       " 'free',\n",
       " 'good',\n",
       " '?',\n",
       " 'want',\n",
       " '.',\n",
       " 'send',\n",
       " '...',\n",
       " 'time']"
      ]
     },
     "execution_count": 18,
     "metadata": {},
     "output_type": "execute_result"
    }
   ],
   "execution_count": 18
  },
  {
   "cell_type": "code",
   "id": "14bcafb8-cf65-4d3a-bc56-58f6922cccbe",
   "metadata": {
    "ExecuteTime": {
     "end_time": "2025-04-14T21:00:07.975273Z",
     "start_time": "2025-04-14T21:00:07.878598Z"
    }
   },
   "source": [
    "columns = ['is_spam']\n",
    "df['is_spam'] = df['label']=='spam'\n",
    "\n",
    "for token in top_50_words:\n",
    "    token_column = f\"{token}_count\"\n",
    "    df[token_column] = df[preprocessed_column].apply(lambda token_list: token_list.count(token))\n",
    "    columns.append(token_column)"
   ],
   "outputs": [],
   "execution_count": 19
  },
  {
   "cell_type": "code",
   "id": "62a69b92-67f9-4540-a2a7-396447684bc1",
   "metadata": {
    "ExecuteTime": {
     "end_time": "2025-04-14T21:00:10.253552Z",
     "start_time": "2025-04-14T21:00:10.181971Z"
    }
   },
   "source": [
    "df[columns].corr()"
   ],
   "outputs": [
    {
     "data": {
      "text/plain": [
       "                  is_spam   u_count  call_count   2_count  get_count  \\\n",
       "is_spam          1.000000 -0.019579    0.446223  0.169943   0.051020   \n",
       "u_count         -0.019579  1.000000    0.010178  0.217855   0.023539   \n",
       "call_count       0.446223  0.010178    1.000000  0.020873  -0.018830   \n",
       "2_count          0.169943  0.217855    0.020873  1.000000   0.010538   \n",
       "get_count        0.051020  0.023539   -0.018830  0.010538   1.000000   \n",
       "ur_count         0.154416  0.127366   -0.018851  0.144348   0.037125   \n",
       "go_count        -0.015771  0.036218   -0.027271  0.061750   0.020159   \n",
       "&lt;#&gt;_count -0.051997  0.008280   -0.024368 -0.008065   0.023485   \n",
       "4_count          0.119191  0.093785   -0.003047  0.195006   0.045924   \n",
       "got_count       -0.061891  0.020017   -0.028177  0.046540  -0.001926   \n",
       "like_count      -0.043468  0.016569   -0.023954  0.003491   0.014913   \n",
       "know_count      -0.032863  0.036360   -0.015701 -0.026505   0.015686   \n",
       "come_count      -0.066504  0.004690   -0.031485 -0.007970   0.007197   \n",
       "free_count       0.338359 -0.006435    0.183009  0.070358   0.099989   \n",
       "good_count      -0.033800  0.009387   -0.031145 -0.015685   0.001353   \n",
       "?_count         -0.033442 -0.029473   -0.026858 -0.020498   0.010335   \n",
       "want_count       0.016840 -0.011602    0.012432  0.049722   0.022199   \n",
       "._count         -0.012904  0.056931   -0.001748 -0.004542  -0.007844   \n",
       "send_count       0.115150  0.022756   -0.033638  0.014947   0.044074   \n",
       "..._count       -0.041316 -0.032963   -0.028787 -0.017652  -0.002478   \n",
       "time_count      -0.016687  0.054168    0.001543  0.021690   0.032140   \n",
       "\n",
       "                 ur_count  go_count  &lt;#&gt;_count   4_count  got_count  \\\n",
       "is_spam          0.154416 -0.015771        -0.051997  0.119191  -0.061891   \n",
       "u_count          0.127366  0.036218         0.008280  0.093785   0.020017   \n",
       "call_count      -0.018851 -0.027271        -0.024368 -0.003047  -0.028177   \n",
       "2_count          0.144348  0.061750        -0.008065  0.195006   0.046540   \n",
       "get_count        0.037125  0.020159         0.023485  0.045924  -0.001926   \n",
       "ur_count         1.000000  0.003344        -0.008481  0.130472   0.011937   \n",
       "go_count         0.003344  1.000000        -0.015130  0.131446   0.060499   \n",
       "&lt;#&gt;_count -0.008481 -0.015130         1.000000 -0.000965   0.014544   \n",
       "4_count          0.130472  0.131446        -0.000965  1.000000   0.027332   \n",
       "got_count        0.011937  0.060499         0.014544  0.027332   1.000000   \n",
       "like_count      -0.011605 -0.011899         0.038592 -0.020104   0.004194   \n",
       "know_count      -0.009627  0.013855         0.022131 -0.022894  -0.001517   \n",
       "come_count       0.007548  0.007530        -0.007822 -0.021468   0.026000   \n",
       "free_count       0.079416  0.022055         0.000292  0.076441  -0.015390   \n",
       "good_count       0.018576 -0.017557         0.098680 -0.023461  -0.009943   \n",
       "?_count         -0.013003  0.039121        -0.001693 -0.014321   0.008368   \n",
       "want_count      -0.010206  0.070150        -0.002109 -0.022680   0.000703   \n",
       "._count          0.024554 -0.000669         0.604619  0.003966  -0.002609   \n",
       "send_count       0.083437 -0.000107         0.021089  0.008338  -0.015784   \n",
       "..._count       -0.021361  0.033798        -0.015630 -0.016582  -0.016840   \n",
       "time_count       0.000451  0.009430        -0.002552  0.018193   0.004672   \n",
       "\n",
       "                 ...  know_count  come_count  free_count  good_count  \\\n",
       "is_spam          ...   -0.032863   -0.066504    0.338359   -0.033800   \n",
       "u_count          ...    0.036360    0.004690   -0.006435    0.009387   \n",
       "call_count       ...   -0.015701   -0.031485    0.183009   -0.031145   \n",
       "2_count          ...   -0.026505   -0.007970    0.070358   -0.015685   \n",
       "get_count        ...    0.015686    0.007197    0.099989    0.001353   \n",
       "ur_count         ...   -0.009627    0.007548    0.079416    0.018576   \n",
       "go_count         ...    0.013855    0.007530    0.022055   -0.017557   \n",
       "&lt;#&gt;_count  ...    0.022131   -0.007822    0.000292    0.098680   \n",
       "4_count          ...   -0.022894   -0.021468    0.076441   -0.023461   \n",
       "got_count        ...   -0.001517    0.026000   -0.015390   -0.009943   \n",
       "like_count       ...    0.065743   -0.008046   -0.022297   -0.009302   \n",
       "know_count       ...    1.000000   -0.014988   -0.025544    0.025601   \n",
       "come_count       ...   -0.014988    1.000000   -0.003827   -0.006173   \n",
       "free_count       ...   -0.025544   -0.003827    1.000000   -0.031365   \n",
       "good_count       ...    0.025601   -0.006173   -0.031365    1.000000   \n",
       "?_count          ...    0.016138    0.011129   -0.008436    0.095311   \n",
       "want_count       ...    0.052006    0.053506    0.067554   -0.022640   \n",
       "._count          ...   -0.003529    0.034620   -0.009253    0.116154   \n",
       "send_count       ...    0.006991    0.023825    0.041354    0.006605   \n",
       "..._count        ...    0.045983    0.005785   -0.019624    0.070286   \n",
       "time_count       ...    0.007324    0.034158   -0.001041    0.034057   \n",
       "\n",
       "                  ?_count  want_count   ._count  send_count  ..._count  \\\n",
       "is_spam         -0.033442    0.016840 -0.012904    0.115150  -0.041316   \n",
       "u_count         -0.029473   -0.011602  0.056931    0.022756  -0.032963   \n",
       "call_count      -0.026858    0.012432 -0.001748   -0.033638  -0.028787   \n",
       "2_count         -0.020498    0.049722 -0.004542    0.014947  -0.017652   \n",
       "get_count        0.010335    0.022199 -0.007844    0.044074  -0.002478   \n",
       "ur_count        -0.013003   -0.010206  0.024554    0.083437  -0.021361   \n",
       "go_count         0.039121    0.070150 -0.000669   -0.000107   0.033798   \n",
       "&lt;#&gt;_count -0.001693   -0.002109  0.604619    0.021089  -0.015630   \n",
       "4_count         -0.014321   -0.022680  0.003966    0.008338  -0.016582   \n",
       "got_count        0.008368    0.000703 -0.002609   -0.015784  -0.016840   \n",
       "like_count      -0.016596   -0.017312 -0.009153    0.009308   0.006458   \n",
       "know_count       0.016138    0.052006 -0.003529    0.006991   0.045983   \n",
       "come_count       0.011129    0.053506  0.034620    0.023825   0.005785   \n",
       "free_count      -0.008436    0.067554 -0.009253    0.041354  -0.019624   \n",
       "good_count       0.095311   -0.022640  0.116154    0.006605   0.070286   \n",
       "?_count          1.000000    0.008678 -0.003574    0.038438   0.195497   \n",
       "want_count       0.008678    1.000000 -0.005592   -0.003268   0.035563   \n",
       "._count         -0.003574   -0.005592  1.000000    0.003476   0.002397   \n",
       "send_count       0.038438   -0.003268  0.003476    1.000000   0.027771   \n",
       "..._count        0.195497    0.035563  0.002397    0.027771   1.000000   \n",
       "time_count       0.011243    0.025048  0.005622   -0.029676  -0.003741   \n",
       "\n",
       "                 time_count  \n",
       "is_spam           -0.016687  \n",
       "u_count            0.054168  \n",
       "call_count         0.001543  \n",
       "2_count            0.021690  \n",
       "get_count          0.032140  \n",
       "ur_count           0.000451  \n",
       "go_count           0.009430  \n",
       "&lt;#&gt;_count   -0.002552  \n",
       "4_count            0.018193  \n",
       "got_count          0.004672  \n",
       "like_count         0.043190  \n",
       "know_count         0.007324  \n",
       "come_count         0.034158  \n",
       "free_count        -0.001041  \n",
       "good_count         0.034057  \n",
       "?_count            0.011243  \n",
       "want_count         0.025048  \n",
       "._count            0.005622  \n",
       "send_count        -0.029676  \n",
       "..._count         -0.003741  \n",
       "time_count         1.000000  \n",
       "\n",
       "[21 rows x 21 columns]"
      ],
      "text/html": [
       "<div>\n",
       "<style scoped>\n",
       "    .dataframe tbody tr th:only-of-type {\n",
       "        vertical-align: middle;\n",
       "    }\n",
       "\n",
       "    .dataframe tbody tr th {\n",
       "        vertical-align: top;\n",
       "    }\n",
       "\n",
       "    .dataframe thead th {\n",
       "        text-align: right;\n",
       "    }\n",
       "</style>\n",
       "<table border=\"1\" class=\"dataframe\">\n",
       "  <thead>\n",
       "    <tr style=\"text-align: right;\">\n",
       "      <th></th>\n",
       "      <th>is_spam</th>\n",
       "      <th>u_count</th>\n",
       "      <th>call_count</th>\n",
       "      <th>2_count</th>\n",
       "      <th>get_count</th>\n",
       "      <th>ur_count</th>\n",
       "      <th>go_count</th>\n",
       "      <th>&amp;lt;#&amp;gt;_count</th>\n",
       "      <th>4_count</th>\n",
       "      <th>got_count</th>\n",
       "      <th>...</th>\n",
       "      <th>know_count</th>\n",
       "      <th>come_count</th>\n",
       "      <th>free_count</th>\n",
       "      <th>good_count</th>\n",
       "      <th>?_count</th>\n",
       "      <th>want_count</th>\n",
       "      <th>._count</th>\n",
       "      <th>send_count</th>\n",
       "      <th>..._count</th>\n",
       "      <th>time_count</th>\n",
       "    </tr>\n",
       "  </thead>\n",
       "  <tbody>\n",
       "    <tr>\n",
       "      <th>is_spam</th>\n",
       "      <td>1.000000</td>\n",
       "      <td>-0.019579</td>\n",
       "      <td>0.446223</td>\n",
       "      <td>0.169943</td>\n",
       "      <td>0.051020</td>\n",
       "      <td>0.154416</td>\n",
       "      <td>-0.015771</td>\n",
       "      <td>-0.051997</td>\n",
       "      <td>0.119191</td>\n",
       "      <td>-0.061891</td>\n",
       "      <td>...</td>\n",
       "      <td>-0.032863</td>\n",
       "      <td>-0.066504</td>\n",
       "      <td>0.338359</td>\n",
       "      <td>-0.033800</td>\n",
       "      <td>-0.033442</td>\n",
       "      <td>0.016840</td>\n",
       "      <td>-0.012904</td>\n",
       "      <td>0.115150</td>\n",
       "      <td>-0.041316</td>\n",
       "      <td>-0.016687</td>\n",
       "    </tr>\n",
       "    <tr>\n",
       "      <th>u_count</th>\n",
       "      <td>-0.019579</td>\n",
       "      <td>1.000000</td>\n",
       "      <td>0.010178</td>\n",
       "      <td>0.217855</td>\n",
       "      <td>0.023539</td>\n",
       "      <td>0.127366</td>\n",
       "      <td>0.036218</td>\n",
       "      <td>0.008280</td>\n",
       "      <td>0.093785</td>\n",
       "      <td>0.020017</td>\n",
       "      <td>...</td>\n",
       "      <td>0.036360</td>\n",
       "      <td>0.004690</td>\n",
       "      <td>-0.006435</td>\n",
       "      <td>0.009387</td>\n",
       "      <td>-0.029473</td>\n",
       "      <td>-0.011602</td>\n",
       "      <td>0.056931</td>\n",
       "      <td>0.022756</td>\n",
       "      <td>-0.032963</td>\n",
       "      <td>0.054168</td>\n",
       "    </tr>\n",
       "    <tr>\n",
       "      <th>call_count</th>\n",
       "      <td>0.446223</td>\n",
       "      <td>0.010178</td>\n",
       "      <td>1.000000</td>\n",
       "      <td>0.020873</td>\n",
       "      <td>-0.018830</td>\n",
       "      <td>-0.018851</td>\n",
       "      <td>-0.027271</td>\n",
       "      <td>-0.024368</td>\n",
       "      <td>-0.003047</td>\n",
       "      <td>-0.028177</td>\n",
       "      <td>...</td>\n",
       "      <td>-0.015701</td>\n",
       "      <td>-0.031485</td>\n",
       "      <td>0.183009</td>\n",
       "      <td>-0.031145</td>\n",
       "      <td>-0.026858</td>\n",
       "      <td>0.012432</td>\n",
       "      <td>-0.001748</td>\n",
       "      <td>-0.033638</td>\n",
       "      <td>-0.028787</td>\n",
       "      <td>0.001543</td>\n",
       "    </tr>\n",
       "    <tr>\n",
       "      <th>2_count</th>\n",
       "      <td>0.169943</td>\n",
       "      <td>0.217855</td>\n",
       "      <td>0.020873</td>\n",
       "      <td>1.000000</td>\n",
       "      <td>0.010538</td>\n",
       "      <td>0.144348</td>\n",
       "      <td>0.061750</td>\n",
       "      <td>-0.008065</td>\n",
       "      <td>0.195006</td>\n",
       "      <td>0.046540</td>\n",
       "      <td>...</td>\n",
       "      <td>-0.026505</td>\n",
       "      <td>-0.007970</td>\n",
       "      <td>0.070358</td>\n",
       "      <td>-0.015685</td>\n",
       "      <td>-0.020498</td>\n",
       "      <td>0.049722</td>\n",
       "      <td>-0.004542</td>\n",
       "      <td>0.014947</td>\n",
       "      <td>-0.017652</td>\n",
       "      <td>0.021690</td>\n",
       "    </tr>\n",
       "    <tr>\n",
       "      <th>get_count</th>\n",
       "      <td>0.051020</td>\n",
       "      <td>0.023539</td>\n",
       "      <td>-0.018830</td>\n",
       "      <td>0.010538</td>\n",
       "      <td>1.000000</td>\n",
       "      <td>0.037125</td>\n",
       "      <td>0.020159</td>\n",
       "      <td>0.023485</td>\n",
       "      <td>0.045924</td>\n",
       "      <td>-0.001926</td>\n",
       "      <td>...</td>\n",
       "      <td>0.015686</td>\n",
       "      <td>0.007197</td>\n",
       "      <td>0.099989</td>\n",
       "      <td>0.001353</td>\n",
       "      <td>0.010335</td>\n",
       "      <td>0.022199</td>\n",
       "      <td>-0.007844</td>\n",
       "      <td>0.044074</td>\n",
       "      <td>-0.002478</td>\n",
       "      <td>0.032140</td>\n",
       "    </tr>\n",
       "    <tr>\n",
       "      <th>ur_count</th>\n",
       "      <td>0.154416</td>\n",
       "      <td>0.127366</td>\n",
       "      <td>-0.018851</td>\n",
       "      <td>0.144348</td>\n",
       "      <td>0.037125</td>\n",
       "      <td>1.000000</td>\n",
       "      <td>0.003344</td>\n",
       "      <td>-0.008481</td>\n",
       "      <td>0.130472</td>\n",
       "      <td>0.011937</td>\n",
       "      <td>...</td>\n",
       "      <td>-0.009627</td>\n",
       "      <td>0.007548</td>\n",
       "      <td>0.079416</td>\n",
       "      <td>0.018576</td>\n",
       "      <td>-0.013003</td>\n",
       "      <td>-0.010206</td>\n",
       "      <td>0.024554</td>\n",
       "      <td>0.083437</td>\n",
       "      <td>-0.021361</td>\n",
       "      <td>0.000451</td>\n",
       "    </tr>\n",
       "    <tr>\n",
       "      <th>go_count</th>\n",
       "      <td>-0.015771</td>\n",
       "      <td>0.036218</td>\n",
       "      <td>-0.027271</td>\n",
       "      <td>0.061750</td>\n",
       "      <td>0.020159</td>\n",
       "      <td>0.003344</td>\n",
       "      <td>1.000000</td>\n",
       "      <td>-0.015130</td>\n",
       "      <td>0.131446</td>\n",
       "      <td>0.060499</td>\n",
       "      <td>...</td>\n",
       "      <td>0.013855</td>\n",
       "      <td>0.007530</td>\n",
       "      <td>0.022055</td>\n",
       "      <td>-0.017557</td>\n",
       "      <td>0.039121</td>\n",
       "      <td>0.070150</td>\n",
       "      <td>-0.000669</td>\n",
       "      <td>-0.000107</td>\n",
       "      <td>0.033798</td>\n",
       "      <td>0.009430</td>\n",
       "    </tr>\n",
       "    <tr>\n",
       "      <th>&amp;lt;#&amp;gt;_count</th>\n",
       "      <td>-0.051997</td>\n",
       "      <td>0.008280</td>\n",
       "      <td>-0.024368</td>\n",
       "      <td>-0.008065</td>\n",
       "      <td>0.023485</td>\n",
       "      <td>-0.008481</td>\n",
       "      <td>-0.015130</td>\n",
       "      <td>1.000000</td>\n",
       "      <td>-0.000965</td>\n",
       "      <td>0.014544</td>\n",
       "      <td>...</td>\n",
       "      <td>0.022131</td>\n",
       "      <td>-0.007822</td>\n",
       "      <td>0.000292</td>\n",
       "      <td>0.098680</td>\n",
       "      <td>-0.001693</td>\n",
       "      <td>-0.002109</td>\n",
       "      <td>0.604619</td>\n",
       "      <td>0.021089</td>\n",
       "      <td>-0.015630</td>\n",
       "      <td>-0.002552</td>\n",
       "    </tr>\n",
       "    <tr>\n",
       "      <th>4_count</th>\n",
       "      <td>0.119191</td>\n",
       "      <td>0.093785</td>\n",
       "      <td>-0.003047</td>\n",
       "      <td>0.195006</td>\n",
       "      <td>0.045924</td>\n",
       "      <td>0.130472</td>\n",
       "      <td>0.131446</td>\n",
       "      <td>-0.000965</td>\n",
       "      <td>1.000000</td>\n",
       "      <td>0.027332</td>\n",
       "      <td>...</td>\n",
       "      <td>-0.022894</td>\n",
       "      <td>-0.021468</td>\n",
       "      <td>0.076441</td>\n",
       "      <td>-0.023461</td>\n",
       "      <td>-0.014321</td>\n",
       "      <td>-0.022680</td>\n",
       "      <td>0.003966</td>\n",
       "      <td>0.008338</td>\n",
       "      <td>-0.016582</td>\n",
       "      <td>0.018193</td>\n",
       "    </tr>\n",
       "    <tr>\n",
       "      <th>got_count</th>\n",
       "      <td>-0.061891</td>\n",
       "      <td>0.020017</td>\n",
       "      <td>-0.028177</td>\n",
       "      <td>0.046540</td>\n",
       "      <td>-0.001926</td>\n",
       "      <td>0.011937</td>\n",
       "      <td>0.060499</td>\n",
       "      <td>0.014544</td>\n",
       "      <td>0.027332</td>\n",
       "      <td>1.000000</td>\n",
       "      <td>...</td>\n",
       "      <td>-0.001517</td>\n",
       "      <td>0.026000</td>\n",
       "      <td>-0.015390</td>\n",
       "      <td>-0.009943</td>\n",
       "      <td>0.008368</td>\n",
       "      <td>0.000703</td>\n",
       "      <td>-0.002609</td>\n",
       "      <td>-0.015784</td>\n",
       "      <td>-0.016840</td>\n",
       "      <td>0.004672</td>\n",
       "    </tr>\n",
       "    <tr>\n",
       "      <th>like_count</th>\n",
       "      <td>-0.043468</td>\n",
       "      <td>0.016569</td>\n",
       "      <td>-0.023954</td>\n",
       "      <td>0.003491</td>\n",
       "      <td>0.014913</td>\n",
       "      <td>-0.011605</td>\n",
       "      <td>-0.011899</td>\n",
       "      <td>0.038592</td>\n",
       "      <td>-0.020104</td>\n",
       "      <td>0.004194</td>\n",
       "      <td>...</td>\n",
       "      <td>0.065743</td>\n",
       "      <td>-0.008046</td>\n",
       "      <td>-0.022297</td>\n",
       "      <td>-0.009302</td>\n",
       "      <td>-0.016596</td>\n",
       "      <td>-0.017312</td>\n",
       "      <td>-0.009153</td>\n",
       "      <td>0.009308</td>\n",
       "      <td>0.006458</td>\n",
       "      <td>0.043190</td>\n",
       "    </tr>\n",
       "    <tr>\n",
       "      <th>know_count</th>\n",
       "      <td>-0.032863</td>\n",
       "      <td>0.036360</td>\n",
       "      <td>-0.015701</td>\n",
       "      <td>-0.026505</td>\n",
       "      <td>0.015686</td>\n",
       "      <td>-0.009627</td>\n",
       "      <td>0.013855</td>\n",
       "      <td>0.022131</td>\n",
       "      <td>-0.022894</td>\n",
       "      <td>-0.001517</td>\n",
       "      <td>...</td>\n",
       "      <td>1.000000</td>\n",
       "      <td>-0.014988</td>\n",
       "      <td>-0.025544</td>\n",
       "      <td>0.025601</td>\n",
       "      <td>0.016138</td>\n",
       "      <td>0.052006</td>\n",
       "      <td>-0.003529</td>\n",
       "      <td>0.006991</td>\n",
       "      <td>0.045983</td>\n",
       "      <td>0.007324</td>\n",
       "    </tr>\n",
       "    <tr>\n",
       "      <th>come_count</th>\n",
       "      <td>-0.066504</td>\n",
       "      <td>0.004690</td>\n",
       "      <td>-0.031485</td>\n",
       "      <td>-0.007970</td>\n",
       "      <td>0.007197</td>\n",
       "      <td>0.007548</td>\n",
       "      <td>0.007530</td>\n",
       "      <td>-0.007822</td>\n",
       "      <td>-0.021468</td>\n",
       "      <td>0.026000</td>\n",
       "      <td>...</td>\n",
       "      <td>-0.014988</td>\n",
       "      <td>1.000000</td>\n",
       "      <td>-0.003827</td>\n",
       "      <td>-0.006173</td>\n",
       "      <td>0.011129</td>\n",
       "      <td>0.053506</td>\n",
       "      <td>0.034620</td>\n",
       "      <td>0.023825</td>\n",
       "      <td>0.005785</td>\n",
       "      <td>0.034158</td>\n",
       "    </tr>\n",
       "    <tr>\n",
       "      <th>free_count</th>\n",
       "      <td>0.338359</td>\n",
       "      <td>-0.006435</td>\n",
       "      <td>0.183009</td>\n",
       "      <td>0.070358</td>\n",
       "      <td>0.099989</td>\n",
       "      <td>0.079416</td>\n",
       "      <td>0.022055</td>\n",
       "      <td>0.000292</td>\n",
       "      <td>0.076441</td>\n",
       "      <td>-0.015390</td>\n",
       "      <td>...</td>\n",
       "      <td>-0.025544</td>\n",
       "      <td>-0.003827</td>\n",
       "      <td>1.000000</td>\n",
       "      <td>-0.031365</td>\n",
       "      <td>-0.008436</td>\n",
       "      <td>0.067554</td>\n",
       "      <td>-0.009253</td>\n",
       "      <td>0.041354</td>\n",
       "      <td>-0.019624</td>\n",
       "      <td>-0.001041</td>\n",
       "    </tr>\n",
       "    <tr>\n",
       "      <th>good_count</th>\n",
       "      <td>-0.033800</td>\n",
       "      <td>0.009387</td>\n",
       "      <td>-0.031145</td>\n",
       "      <td>-0.015685</td>\n",
       "      <td>0.001353</td>\n",
       "      <td>0.018576</td>\n",
       "      <td>-0.017557</td>\n",
       "      <td>0.098680</td>\n",
       "      <td>-0.023461</td>\n",
       "      <td>-0.009943</td>\n",
       "      <td>...</td>\n",
       "      <td>0.025601</td>\n",
       "      <td>-0.006173</td>\n",
       "      <td>-0.031365</td>\n",
       "      <td>1.000000</td>\n",
       "      <td>0.095311</td>\n",
       "      <td>-0.022640</td>\n",
       "      <td>0.116154</td>\n",
       "      <td>0.006605</td>\n",
       "      <td>0.070286</td>\n",
       "      <td>0.034057</td>\n",
       "    </tr>\n",
       "    <tr>\n",
       "      <th>?_count</th>\n",
       "      <td>-0.033442</td>\n",
       "      <td>-0.029473</td>\n",
       "      <td>-0.026858</td>\n",
       "      <td>-0.020498</td>\n",
       "      <td>0.010335</td>\n",
       "      <td>-0.013003</td>\n",
       "      <td>0.039121</td>\n",
       "      <td>-0.001693</td>\n",
       "      <td>-0.014321</td>\n",
       "      <td>0.008368</td>\n",
       "      <td>...</td>\n",
       "      <td>0.016138</td>\n",
       "      <td>0.011129</td>\n",
       "      <td>-0.008436</td>\n",
       "      <td>0.095311</td>\n",
       "      <td>1.000000</td>\n",
       "      <td>0.008678</td>\n",
       "      <td>-0.003574</td>\n",
       "      <td>0.038438</td>\n",
       "      <td>0.195497</td>\n",
       "      <td>0.011243</td>\n",
       "    </tr>\n",
       "    <tr>\n",
       "      <th>want_count</th>\n",
       "      <td>0.016840</td>\n",
       "      <td>-0.011602</td>\n",
       "      <td>0.012432</td>\n",
       "      <td>0.049722</td>\n",
       "      <td>0.022199</td>\n",
       "      <td>-0.010206</td>\n",
       "      <td>0.070150</td>\n",
       "      <td>-0.002109</td>\n",
       "      <td>-0.022680</td>\n",
       "      <td>0.000703</td>\n",
       "      <td>...</td>\n",
       "      <td>0.052006</td>\n",
       "      <td>0.053506</td>\n",
       "      <td>0.067554</td>\n",
       "      <td>-0.022640</td>\n",
       "      <td>0.008678</td>\n",
       "      <td>1.000000</td>\n",
       "      <td>-0.005592</td>\n",
       "      <td>-0.003268</td>\n",
       "      <td>0.035563</td>\n",
       "      <td>0.025048</td>\n",
       "    </tr>\n",
       "    <tr>\n",
       "      <th>._count</th>\n",
       "      <td>-0.012904</td>\n",
       "      <td>0.056931</td>\n",
       "      <td>-0.001748</td>\n",
       "      <td>-0.004542</td>\n",
       "      <td>-0.007844</td>\n",
       "      <td>0.024554</td>\n",
       "      <td>-0.000669</td>\n",
       "      <td>0.604619</td>\n",
       "      <td>0.003966</td>\n",
       "      <td>-0.002609</td>\n",
       "      <td>...</td>\n",
       "      <td>-0.003529</td>\n",
       "      <td>0.034620</td>\n",
       "      <td>-0.009253</td>\n",
       "      <td>0.116154</td>\n",
       "      <td>-0.003574</td>\n",
       "      <td>-0.005592</td>\n",
       "      <td>1.000000</td>\n",
       "      <td>0.003476</td>\n",
       "      <td>0.002397</td>\n",
       "      <td>0.005622</td>\n",
       "    </tr>\n",
       "    <tr>\n",
       "      <th>send_count</th>\n",
       "      <td>0.115150</td>\n",
       "      <td>0.022756</td>\n",
       "      <td>-0.033638</td>\n",
       "      <td>0.014947</td>\n",
       "      <td>0.044074</td>\n",
       "      <td>0.083437</td>\n",
       "      <td>-0.000107</td>\n",
       "      <td>0.021089</td>\n",
       "      <td>0.008338</td>\n",
       "      <td>-0.015784</td>\n",
       "      <td>...</td>\n",
       "      <td>0.006991</td>\n",
       "      <td>0.023825</td>\n",
       "      <td>0.041354</td>\n",
       "      <td>0.006605</td>\n",
       "      <td>0.038438</td>\n",
       "      <td>-0.003268</td>\n",
       "      <td>0.003476</td>\n",
       "      <td>1.000000</td>\n",
       "      <td>0.027771</td>\n",
       "      <td>-0.029676</td>\n",
       "    </tr>\n",
       "    <tr>\n",
       "      <th>..._count</th>\n",
       "      <td>-0.041316</td>\n",
       "      <td>-0.032963</td>\n",
       "      <td>-0.028787</td>\n",
       "      <td>-0.017652</td>\n",
       "      <td>-0.002478</td>\n",
       "      <td>-0.021361</td>\n",
       "      <td>0.033798</td>\n",
       "      <td>-0.015630</td>\n",
       "      <td>-0.016582</td>\n",
       "      <td>-0.016840</td>\n",
       "      <td>...</td>\n",
       "      <td>0.045983</td>\n",
       "      <td>0.005785</td>\n",
       "      <td>-0.019624</td>\n",
       "      <td>0.070286</td>\n",
       "      <td>0.195497</td>\n",
       "      <td>0.035563</td>\n",
       "      <td>0.002397</td>\n",
       "      <td>0.027771</td>\n",
       "      <td>1.000000</td>\n",
       "      <td>-0.003741</td>\n",
       "    </tr>\n",
       "    <tr>\n",
       "      <th>time_count</th>\n",
       "      <td>-0.016687</td>\n",
       "      <td>0.054168</td>\n",
       "      <td>0.001543</td>\n",
       "      <td>0.021690</td>\n",
       "      <td>0.032140</td>\n",
       "      <td>0.000451</td>\n",
       "      <td>0.009430</td>\n",
       "      <td>-0.002552</td>\n",
       "      <td>0.018193</td>\n",
       "      <td>0.004672</td>\n",
       "      <td>...</td>\n",
       "      <td>0.007324</td>\n",
       "      <td>0.034158</td>\n",
       "      <td>-0.001041</td>\n",
       "      <td>0.034057</td>\n",
       "      <td>0.011243</td>\n",
       "      <td>0.025048</td>\n",
       "      <td>0.005622</td>\n",
       "      <td>-0.029676</td>\n",
       "      <td>-0.003741</td>\n",
       "      <td>1.000000</td>\n",
       "    </tr>\n",
       "  </tbody>\n",
       "</table>\n",
       "<p>21 rows × 21 columns</p>\n",
       "</div>"
      ]
     },
     "execution_count": 20,
     "metadata": {},
     "output_type": "execute_result"
    }
   ],
   "execution_count": 20
  },
  {
   "cell_type": "code",
   "id": "e85faae1-8de8-4f3d-895b-e5e182c99df2",
   "metadata": {
    "ExecuteTime": {
     "end_time": "2025-04-14T21:00:14.007191Z",
     "start_time": "2025-04-14T21:00:13.486641Z"
    }
   },
   "source": [
    "import seaborn\n",
    "\n",
    "seaborn.heatmap(df[columns].corr())"
   ],
   "outputs": [
    {
     "data": {
      "text/plain": [
       "<Axes: >"
      ]
     },
     "execution_count": 21,
     "metadata": {},
     "output_type": "execute_result"
    },
    {
     "data": {
      "text/plain": [
       "<Figure size 640x480 with 2 Axes>"
      ],
      "image/png": "[encoded data removed]"
     },
     "metadata": {},
     "output_type": "display_data"
    }
   ],
   "execution_count": 21
  },
  {
   "cell_type": "code",
   "id": "6786f705-fdf6-4449-a962-21f0dfe6e7c8",
   "metadata": {
    "ExecuteTime": {
     "end_time": "2025-04-14T21:00:17.349472Z",
     "start_time": "2025-04-14T21:00:17.262289Z"
    }
   },
   "source": [
    "# save data to csv\n",
    "df.to_csv('data/prepared_sms_data.csv', index=False)"
   ],
   "outputs": [],
   "execution_count": 22
  },
  {
   "cell_type": "code",
   "execution_count": null,
   "id": "18a6f3ee-7c39-4f81-b615-c40a9388e1ae",
   "metadata": {},
   "outputs": [],
   "source": []
  }
 ],
 "metadata": {
  "kernelspec": {
   "display_name": "Python 3 (ipykernel)",
   "language": "python",
   "name": "python3"
  },
  "language_info": {
   "codemirror_mode": {
    "name": "ipython",
    "version": 3
   },
   "file_extension": ".py",
   "mimetype": "text/x-python",
   "name": "python",
   "nbconvert_exporter": "python",
   "pygments_lexer": "ipython3",
   "version": "3.10.0"
  }
 },
 "nbformat": 4,
 "nbformat_minor": 5
}
